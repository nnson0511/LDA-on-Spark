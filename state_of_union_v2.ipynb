{
 "cells": [
  {
   "cell_type": "markdown",
   "metadata": {},
   "source": [
    "Analyze state of the union addresses. \n",
    "Data source: https://en.wikisource.org/wiki/Portal:State_of_the_Union_Speeches_by_United_States_Presidents\n",
    "scrape the text of all speeches and then maybe try to find patterns of speech of each president?"
   ]
  },
  {
   "cell_type": "markdown",
   "metadata": {},
   "source": [
    "https://nlp.stanford.edu/IR-book/html/htmledition/sublinear-tf-scaling-1.html \n",
    "https://www.oreilly.com/library/view/applied-text-analysis/9781491963036/ch04.html "
   ]
  },
  {
   "cell_type": "markdown",
   "metadata": {},
   "source": [
    "## Setup"
   ]
  },
  {
   "cell_type": "code",
   "execution_count": 6,
   "metadata": {},
   "outputs": [],
   "source": [
    "from bs4 import BeautifulSoup\n",
    "import requests\n",
    "import pandas as pd\n",
    "import urllib.request\n",
    "import re\n",
    "\n",
    "from textblob import TextBlob\n",
    "import seaborn as sns\n",
    "import matplotlib.pyplot as plt\n",
    "from gensim.corpora.dictionary import Dictionary\n",
    "import gensim\n",
    "from gensim import corpora, models\n",
    "import spacy\n",
    "import time\n",
    "from sklearn.feature_extraction.text import TfidfVectorizer, CountVectorizer\n",
    "from sklearn.decomposition import LatentDirichletAllocation\n",
    "\n",
    "# Data source we are going to scrape for results\n",
    "data_url = 'https://en.wikisource.org/wiki/Portal:State_of_the_Union_Speeches_by_United_States_Presidents'\n",
    "\n",
    "link_list = []\n",
    "\n",
    "# extract the text of a speech from a URL\n",
    "# text is extracted in a list of paragraphs (strings) for each speech\n",
    "def get_speech(url):\n",
    "    return([ p.text.strip() for p in BeautifulSoup(urllib.request.urlopen(url)).find_all(\"p\") if \\\n",
    "             'This work is in the public domain in the United States because it is a work of the United States federal government' \\\n",
    "             not in p.text.strip()])\n",
    "\n",
    "# Make a frequency count by distinct values of \n",
    "# column(s) listed in 'groupbyvars'\n",
    "# Returns pandas dataframe\n",
    "def tidy_count(df,groupbyvars):\n",
    "    return(df.groupby(groupbyvars).size().reset_index().\\\n",
    "        rename(columns={0: \"n\"}).sort_values('n',ascending=False).reset_index(drop=True))"
   ]
  },
  {
   "cell_type": "markdown",
   "metadata": {},
   "source": [
    "## Web Scraping"
   ]
  },
  {
   "cell_type": "code",
   "execution_count": 7,
   "metadata": {},
   "outputs": [],
   "source": [
    "resp = urllib.request.urlopen(data_url)\n",
    "soup = BeautifulSoup(resp, from_encoding=resp.info().get_param('charset'))\n",
    "\n",
    "# Get all links to state of the union addresses from \n",
    "for link in soup.find_all('a', href=True):\n",
    "    if \"union_address\" in link['href'].lower() or \"union_speech\" in link['href'].lower() \\\n",
    "        and \"portal\" not in link['href'].lower() and \"#\" not in link['href'].lower():\n",
    "        link_list.append(link['href'])\n",
    "\n",
    "# Note that I am storing these speeches as lists of paragraphs (strings) for readability\n",
    "speeches = [get_speech('https://en.wikisource.org' + link) for link in link_list]\n",
    "# Extract presidents names from link text\n",
    "presidents = [ link.replace('%','/').split('/')[2].replace('_',' ') for link in link_list ]\n",
    "\n",
    "# Extract state of the union text entries so we can extract the date\n",
    "sou_entries = []\n",
    "for item in soup.find_all('li'):\n",
    "    if 'union' in item.text.strip().lower() and '(' in  item.text.strip().lower():\n",
    "        sou_entries.append(item.text.strip())\n",
    "\n",
    "speeches_pd = pd.DataFrame({\n",
    "                'president' : presidents,\n",
    "                'speech' : speeches,\n",
    "                'year' : [int(re.findall('\\d+',item)[1]) for item in sou_entries ]} )\n",
    "        "
   ]
  },
  {
   "cell_type": "code",
   "execution_count": 8,
   "metadata": {},
   "outputs": [
    {
     "data": {
      "text/html": [
       "<div>\n",
       "<style scoped>\n",
       "    .dataframe tbody tr th:only-of-type {\n",
       "        vertical-align: middle;\n",
       "    }\n",
       "\n",
       "    .dataframe tbody tr th {\n",
       "        vertical-align: top;\n",
       "    }\n",
       "\n",
       "    .dataframe thead th {\n",
       "        text-align: right;\n",
       "    }\n",
       "</style>\n",
       "<table border=\"1\" class=\"dataframe\">\n",
       "  <thead>\n",
       "    <tr style=\"text-align: right;\">\n",
       "      <th></th>\n",
       "      <th>president</th>\n",
       "      <th>speech</th>\n",
       "      <th>year</th>\n",
       "    </tr>\n",
       "  </thead>\n",
       "  <tbody>\n",
       "    <tr>\n",
       "      <th>134</th>\n",
       "      <td>Calvin Coolidge</td>\n",
       "      <td>[Since the close of the last Congress the Nati...</td>\n",
       "      <td>1923</td>\n",
       "    </tr>\n",
       "    <tr>\n",
       "      <th>169</th>\n",
       "      <td>Dwight D. Eisenhower</td>\n",
       "      <td>[Mr. President, Mr. Speaker, Members of the 85...</td>\n",
       "      <td>1958</td>\n",
       "    </tr>\n",
       "    <tr>\n",
       "      <th>81</th>\n",
       "      <td>Ulysses S. Grant</td>\n",
       "      <td>[To the Senate and House of Representatives:, ...</td>\n",
       "      <td>1870</td>\n",
       "    </tr>\n",
       "    <tr>\n",
       "      <th>0</th>\n",
       "      <td>George Washington</td>\n",
       "      <td>[I embrace with great satisfaction the opportu...</td>\n",
       "      <td>1790</td>\n",
       "    </tr>\n",
       "    <tr>\n",
       "      <th>198</th>\n",
       "      <td>Ronald Reagan</td>\n",
       "      <td>[Mr. Speaker, Mr. President, distinguished mem...</td>\n",
       "      <td>1986</td>\n",
       "    </tr>\n",
       "  </tbody>\n",
       "</table>\n",
       "</div>"
      ],
      "text/plain": [
       "                president                                             speech  \\\n",
       "134       Calvin Coolidge  [Since the close of the last Congress the Nati...   \n",
       "169  Dwight D. Eisenhower  [Mr. President, Mr. Speaker, Members of the 85...   \n",
       "81       Ulysses S. Grant  [To the Senate and House of Representatives:, ...   \n",
       "0       George Washington  [I embrace with great satisfaction the opportu...   \n",
       "198         Ronald Reagan  [Mr. Speaker, Mr. President, distinguished mem...   \n",
       "\n",
       "     year  \n",
       "134  1923  \n",
       "169  1958  \n",
       "81   1870  \n",
       "0    1790  \n",
       "198  1986  "
      ]
     },
     "execution_count": 8,
     "metadata": {},
     "output_type": "execute_result"
    }
   ],
   "source": [
    "speeches_pd.sample(n=5)"
   ]
  },
  {
   "cell_type": "markdown",
   "metadata": {},
   "source": [
    "## Preprocessing"
   ]
  },
  {
   "cell_type": "markdown",
   "metadata": {},
   "source": [
    "Clean text (remove stop words, convert to lower case, remove non-alphabetic text, and lemmatize"
   ]
  },
  {
   "cell_type": "code",
   "execution_count": 9,
   "metadata": {},
   "outputs": [],
   "source": [
    "nlp = spacy.load('en', disable=['parser', 'ner']) # disabling the parser makes it run faster\n",
    "#nlp = spacy.load('en_core_web_lg',disable=['parser', 'ner'])\n",
    "\n",
    "# Preprocess pipeline with spacy. \n",
    "def spacy_preprocess(text): \n",
    "    text_out = []\n",
    "    for token in nlp(text.lower()):\n",
    "        # Get rid of stop words and non-alphanumeric\n",
    "        if not token.is_stop and token.is_alpha and len(token)>1:\n",
    "            lemma = token.lemma_\n",
    "            if lemma != '-PRON-':\n",
    "                text_out.append(lemma)\n",
    "            else:\n",
    "                text_out.append(token.text)            \n",
    "    return(text_out)"
   ]
  },
  {
   "cell_type": "code",
   "execution_count": 10,
   "metadata": {},
   "outputs": [
    {
     "name": "stdout",
     "output_type": "stream",
     "text": [
      "True\n",
      "False\n"
     ]
    }
   ],
   "source": [
    "# Case sensitivity matters for stop-words for some reason\n",
    "# So we need to convert all text to lowercase before\n",
    "# letting spacy see it (as done in above function)\n",
    "for token in nlp('The the'):\n",
    "    print(not token.is_stop)"
   ]
  },
  {
   "cell_type": "code",
   "execution_count": 11,
   "metadata": {},
   "outputs": [
    {
     "data": {
      "text/plain": [
       "['dog', 'run', 'bob', 'see', 'squirrel']"
      ]
     },
     "execution_count": 11,
     "metadata": {},
     "output_type": "execute_result"
    }
   ],
   "source": [
    "# test spacy preprocessing\n",
    "spacy_preprocess('The dog ran into Bob beCause he saw 234 squirrels under VAU15')"
   ]
  },
  {
   "cell_type": "code",
   "execution_count": 12,
   "metadata": {},
   "outputs": [
    {
     "name": "stdout",
     "output_type": "stream",
     "text": [
      "Preprocessing time elapsed: 100.60255813598633\n"
     ]
    }
   ],
   "source": [
    "# Each speech is stored as a list of paragraph strings. \n",
    "# Here we join the paragraphs into a single speech string\n",
    "speech_list = [\" \".join(speech) for speech in speeches_pd['speech'].tolist() ]\n",
    "\n",
    "## Pre-process and tokenize our speeches\n",
    "start = time.time()\n",
    "tokens = [spacy_preprocess(speech) for \\\n",
    "          speech in speech_list ]\n",
    "print('Preprocessing time elapsed: ' + str(time.time()-start))"
   ]
  },
  {
   "cell_type": "markdown",
   "metadata": {},
   "source": [
    "## Gensim Topic Modeling"
   ]
  },
  {
   "cell_type": "code",
   "execution_count": 13,
   "metadata": {},
   "outputs": [],
   "source": [
    "# create dictionary and corpus objects for gensim topic modeling\n",
    "common_dictionary = Dictionary(tokens)\n",
    "gensim_corpus = [common_dictionary.doc2bow(doc) for doc in tokens]"
   ]
  },
  {
   "cell_type": "code",
   "execution_count": 14,
   "metadata": {},
   "outputs": [
    {
     "name": "stdout",
     "output_type": "stream",
     "text": [
      "Gensim LDA training time: 67.68750023841858\n"
     ]
    }
   ],
   "source": [
    "start = time.time()\n",
    "gensimLDA = gensim.models.ldamodel.LdaModel(gensim_corpus,num_topics=12,\n",
    "        random_state=42, id2word=common_dictionary,passes=10)\n",
    "print('Gensim LDA training time: ' + str(time.time()-start))"
   ]
  },
  {
   "cell_type": "code",
   "execution_count": 15,
   "metadata": {},
   "outputs": [
    {
     "name": "stdout",
     "output_type": "stream",
     "text": [
      "topic 0: government man state law country nation american people great good united power year right public case work matter\n",
      "topic 1: government state united year congress nation country time great people shall law american good act war program interest\n",
      "topic 2: american year america child work people new tonight school nation family good congress world help country ask know\n",
      "topic 3: year american people new nation world america government work congress program state need time good help war country\n",
      "topic 4: government year congress federal country state public increase department national service law expenditure work system large need present\n",
      "topic 5: state government united congress great country public power war people constitution year law time present act duty right\n",
      "topic 6: year state government congress people new work nation american country time great child united law america act need\n",
      "topic 7: state year united government american nation law country congress people new work great public time service need power\n",
      "topic 8: state government united year congress country law great public present interest subject time duty general power act department\n",
      "topic 9: nation great government people man world good need law work congress national country state power year time war\n",
      "topic 10: war enemy british state government united american country prisoner savage year nation great good force arm time power\n",
      "topic 11: great enemy american state war government country force public time congress united people year lake command service peace\n"
     ]
    }
   ],
   "source": [
    "# Print the words in each gensim topic without probabilties\n",
    "# to show probabilites, just use the gensimModel.show_topics() function\n",
    "def print_gensim_topics(gensimModel,n_words):\n",
    "    gensim_topic_list = gensimModel.print_topics(num_words=n_words)\n",
    "    for n, topic in enumerate(gensim_topic_list):\n",
    "        # Grab words that are in double quotes (ie. strip out probabilities)\n",
    "        print('topic ' + str(n) + \": \" + \" \".join(re.findall(r'\"(.*?)\"', topic[1])))\n",
    "\n",
    "print_gensim_topics(gensimLDA,18)\n",
    "#gensimLDA.show_topics()"
   ]
  },
  {
   "cell_type": "code",
   "execution_count": 16,
   "metadata": {},
   "outputs": [],
   "source": [
    "doc_top_proportions = [ gensimLDA.get_document_topics(doc,minimum_probability=0) for doc in gensim_corpus ]\n",
    "doc_top_probs = pd.DataFrame([[prob for (topic, prob) in prob_tuple] for prob_tuple in doc_top_proportions])\n",
    "doc_top_probs['MostCommonTopic'] = doc_top_probs.idxmax(axis=1)\n",
    "doc_top_probs[['year','president']] = speeches_pd[['year','president']]"
   ]
  },
  {
   "cell_type": "markdown",
   "metadata": {},
   "source": [
    "Topic 10 seems to be related to war and peace, plot the prevalence of the topic"
   ]
  },
  {
   "cell_type": "code",
   "execution_count": 17,
   "metadata": {},
   "outputs": [
    {
     "data": {
      "text/plain": [
       "<seaborn.axisgrid.FacetGrid at 0x7f6bf1125510>"
      ]
     },
     "execution_count": 17,
     "metadata": {},
     "output_type": "execute_result"
    },
    {
     "data": {
      "image/png": "[encoded data removed]",
      "text/plain": [
       "<Figure size 648x432 with 1 Axes>"
      ]
     },
     "metadata": {
      "needs_background": "light"
     },
     "output_type": "display_data"
    }
   ],
   "source": [
    "sns.relplot(x=\"year\",y=10, data=doc_top_probs,kind=\"line\",height=6,aspect=1.5)\n",
    "#plt.xlim(1995,2018)"
   ]
  },
  {
   "cell_type": "code",
   "execution_count": 18,
   "metadata": {},
   "outputs": [
    {
     "data": {
      "text/html": [
       "<div>\n",
       "<style scoped>\n",
       "    .dataframe tbody tr th:only-of-type {\n",
       "        vertical-align: middle;\n",
       "    }\n",
       "\n",
       "    .dataframe tbody tr th {\n",
       "        vertical-align: top;\n",
       "    }\n",
       "\n",
       "    .dataframe thead th {\n",
       "        text-align: right;\n",
       "    }\n",
       "</style>\n",
       "<table border=\"1\" class=\"dataframe\">\n",
       "  <thead>\n",
       "    <tr style=\"text-align: right;\">\n",
       "      <th></th>\n",
       "      <th>MostCommonTopic</th>\n",
       "      <th>n</th>\n",
       "    </tr>\n",
       "  </thead>\n",
       "  <tbody>\n",
       "    <tr>\n",
       "      <th>0</th>\n",
       "      <td>8</td>\n",
       "      <td>95</td>\n",
       "    </tr>\n",
       "    <tr>\n",
       "      <th>1</th>\n",
       "      <td>3</td>\n",
       "      <td>63</td>\n",
       "    </tr>\n",
       "    <tr>\n",
       "      <th>2</th>\n",
       "      <td>9</td>\n",
       "      <td>31</td>\n",
       "    </tr>\n",
       "    <tr>\n",
       "      <th>3</th>\n",
       "      <td>5</td>\n",
       "      <td>20</td>\n",
       "    </tr>\n",
       "    <tr>\n",
       "      <th>4</th>\n",
       "      <td>2</td>\n",
       "      <td>12</td>\n",
       "    </tr>\n",
       "    <tr>\n",
       "      <th>5</th>\n",
       "      <td>4</td>\n",
       "      <td>9</td>\n",
       "    </tr>\n",
       "    <tr>\n",
       "      <th>6</th>\n",
       "      <td>0</td>\n",
       "      <td>1</td>\n",
       "    </tr>\n",
       "    <tr>\n",
       "      <th>7</th>\n",
       "      <td>10</td>\n",
       "      <td>1</td>\n",
       "    </tr>\n",
       "    <tr>\n",
       "      <th>8</th>\n",
       "      <td>11</td>\n",
       "      <td>1</td>\n",
       "    </tr>\n",
       "  </tbody>\n",
       "</table>\n",
       "</div>"
      ],
      "text/plain": [
       "   MostCommonTopic   n\n",
       "0                8  95\n",
       "1                3  63\n",
       "2                9  31\n",
       "3                5  20\n",
       "4                2  12\n",
       "5                4   9\n",
       "6                0   1\n",
       "7               10   1\n",
       "8               11   1"
      ]
     },
     "execution_count": 18,
     "metadata": {},
     "output_type": "execute_result"
    }
   ],
   "source": [
    "tidy_count(doc_top_probs,'MostCommonTopic')"
   ]
  },
  {
   "cell_type": "code",
   "execution_count": 19,
   "metadata": {},
   "outputs": [
    {
     "data": {
      "text/html": [
       "<div>\n",
       "<style scoped>\n",
       "    .dataframe tbody tr th:only-of-type {\n",
       "        vertical-align: middle;\n",
       "    }\n",
       "\n",
       "    .dataframe tbody tr th {\n",
       "        vertical-align: top;\n",
       "    }\n",
       "\n",
       "    .dataframe thead th {\n",
       "        text-align: right;\n",
       "    }\n",
       "</style>\n",
       "<table border=\"1\" class=\"dataframe\">\n",
       "  <thead>\n",
       "    <tr style=\"text-align: right;\">\n",
       "      <th></th>\n",
       "      <th>0</th>\n",
       "      <th>1</th>\n",
       "      <th>2</th>\n",
       "      <th>3</th>\n",
       "      <th>4</th>\n",
       "      <th>5</th>\n",
       "      <th>6</th>\n",
       "      <th>7</th>\n",
       "      <th>8</th>\n",
       "      <th>9</th>\n",
       "      <th>10</th>\n",
       "      <th>11</th>\n",
       "      <th>MostCommonTopic</th>\n",
       "      <th>year</th>\n",
       "      <th>president</th>\n",
       "    </tr>\n",
       "  </thead>\n",
       "  <tbody>\n",
       "    <tr>\n",
       "      <th>50</th>\n",
       "      <td>0.000015</td>\n",
       "      <td>0.000015</td>\n",
       "      <td>0.000015</td>\n",
       "      <td>0.000015</td>\n",
       "      <td>0.000015</td>\n",
       "      <td>0.818892</td>\n",
       "      <td>0.000015</td>\n",
       "      <td>0.000015</td>\n",
       "      <td>0.180957</td>\n",
       "      <td>0.000015</td>\n",
       "      <td>0.000015</td>\n",
       "      <td>0.000015</td>\n",
       "      <td>5</td>\n",
       "      <td>1839</td>\n",
       "      <td>Martin Van Buren</td>\n",
       "    </tr>\n",
       "    <tr>\n",
       "      <th>154</th>\n",
       "      <td>0.000056</td>\n",
       "      <td>0.000056</td>\n",
       "      <td>0.000056</td>\n",
       "      <td>0.685221</td>\n",
       "      <td>0.000056</td>\n",
       "      <td>0.059241</td>\n",
       "      <td>0.000056</td>\n",
       "      <td>0.000056</td>\n",
       "      <td>0.002226</td>\n",
       "      <td>0.252861</td>\n",
       "      <td>0.000056</td>\n",
       "      <td>0.000056</td>\n",
       "      <td>3</td>\n",
       "      <td>1944</td>\n",
       "      <td>Franklin Delano Roosevelt</td>\n",
       "    </tr>\n",
       "    <tr>\n",
       "      <th>67</th>\n",
       "      <td>0.000019</td>\n",
       "      <td>0.000019</td>\n",
       "      <td>0.000019</td>\n",
       "      <td>0.000019</td>\n",
       "      <td>0.000019</td>\n",
       "      <td>0.990903</td>\n",
       "      <td>0.000019</td>\n",
       "      <td>0.000019</td>\n",
       "      <td>0.008912</td>\n",
       "      <td>0.000019</td>\n",
       "      <td>0.000019</td>\n",
       "      <td>0.000019</td>\n",
       "      <td>5</td>\n",
       "      <td>1856</td>\n",
       "      <td>Franklin Pierce</td>\n",
       "    </tr>\n",
       "    <tr>\n",
       "      <th>161</th>\n",
       "      <td>0.000048</td>\n",
       "      <td>0.000048</td>\n",
       "      <td>0.000048</td>\n",
       "      <td>0.443746</td>\n",
       "      <td>0.000048</td>\n",
       "      <td>0.000048</td>\n",
       "      <td>0.000048</td>\n",
       "      <td>0.000048</td>\n",
       "      <td>0.000048</td>\n",
       "      <td>0.555775</td>\n",
       "      <td>0.000048</td>\n",
       "      <td>0.000048</td>\n",
       "      <td>9</td>\n",
       "      <td>1951</td>\n",
       "      <td>Harry S. Truman</td>\n",
       "    </tr>\n",
       "    <tr>\n",
       "      <th>26</th>\n",
       "      <td>0.000062</td>\n",
       "      <td>0.000062</td>\n",
       "      <td>0.000062</td>\n",
       "      <td>0.000062</td>\n",
       "      <td>0.000062</td>\n",
       "      <td>0.271553</td>\n",
       "      <td>0.000062</td>\n",
       "      <td>0.000062</td>\n",
       "      <td>0.727831</td>\n",
       "      <td>0.000062</td>\n",
       "      <td>0.000062</td>\n",
       "      <td>0.000062</td>\n",
       "      <td>8</td>\n",
       "      <td>1815</td>\n",
       "      <td>James Madison</td>\n",
       "    </tr>\n",
       "  </tbody>\n",
       "</table>\n",
       "</div>"
      ],
      "text/plain": [
       "            0         1         2         3         4         5         6  \\\n",
       "50   0.000015  0.000015  0.000015  0.000015  0.000015  0.818892  0.000015   \n",
       "154  0.000056  0.000056  0.000056  0.685221  0.000056  0.059241  0.000056   \n",
       "67   0.000019  0.000019  0.000019  0.000019  0.000019  0.990903  0.000019   \n",
       "161  0.000048  0.000048  0.000048  0.443746  0.000048  0.000048  0.000048   \n",
       "26   0.000062  0.000062  0.000062  0.000062  0.000062  0.271553  0.000062   \n",
       "\n",
       "            7         8         9        10        11  MostCommonTopic  year  \\\n",
       "50   0.000015  0.180957  0.000015  0.000015  0.000015                5  1839   \n",
       "154  0.000056  0.002226  0.252861  0.000056  0.000056                3  1944   \n",
       "67   0.000019  0.008912  0.000019  0.000019  0.000019                5  1856   \n",
       "161  0.000048  0.000048  0.555775  0.000048  0.000048                9  1951   \n",
       "26   0.000062  0.727831  0.000062  0.000062  0.000062                8  1815   \n",
       "\n",
       "                     president  \n",
       "50            Martin Van Buren  \n",
       "154  Franklin Delano Roosevelt  \n",
       "67             Franklin Pierce  \n",
       "161            Harry S. Truman  \n",
       "26               James Madison  "
      ]
     },
     "execution_count": 19,
     "metadata": {},
     "output_type": "execute_result"
    }
   ],
   "source": [
    "doc_top_probs.sample(5)"
   ]
  },
  {
   "cell_type": "code",
   "execution_count": 21,
   "metadata": {},
   "outputs": [],
   "source": [
    "#doc_top_probs.drop('MostCommonTopic', axis=1).idxmax(axis=0)"
   ]
  },
  {
   "cell_type": "markdown",
   "metadata": {},
   "source": [
    "## SkLearn Topic Modeling"
   ]
  },
  {
   "cell_type": "code",
   "execution_count": 22,
   "metadata": {},
   "outputs": [],
   "source": [
    "# Vectorize\n",
    "#tvec = TfidfVectorizer(tokenizer=None,analyzer='word',\n",
    "#                        max_df=0.95, min_df=2,\n",
    "#                        ngram_range=(1,1),max_features=10000)\n",
    "\n",
    "tf_vectorizer = CountVectorizer(max_df=0.95, min_df=2)\n",
    "                        #        max_features=10000)\n",
    "tf = pd.DataFrame(tf_vectorizer.fit_transform([\" \".join(doc) for doc in tokens]).toarray(),\n",
    "                     columns  = tf_vectorizer.get_feature_names())"
   ]
  },
  {
   "cell_type": "code",
   "execution_count": 23,
   "metadata": {},
   "outputs": [
    {
     "data": {
      "text/plain": [
       "(233, 11440)"
      ]
     },
     "execution_count": 23,
     "metadata": {},
     "output_type": "execute_result"
    }
   ],
   "source": [
    "tf.shape"
   ]
  },
  {
   "cell_type": "code",
   "execution_count": 24,
   "metadata": {},
   "outputs": [
    {
     "name": "stdout",
     "output_type": "stream",
     "text": [
      "Sklearn LDA training time: 49.22464942932129\n"
     ]
    }
   ],
   "source": [
    "## LDA Topic Modeling\n",
    "speech_lda = LatentDirichletAllocation(n_components=8,\n",
    "                                       random_state=42,\n",
    "                                    #   evaluate_every=0.5, # eval perplexity\n",
    "                                    #   perp_tol=0.05,\n",
    "                                       max_iter=30,\n",
    "                                learning_method='online'\n",
    "                                      )\n",
    "start = time.time()\n",
    "speech_lda.fit(tf) # fit model\n",
    "print('Sklearn LDA training time: ' + str(time.time()-start))\n"
   ]
  },
  {
   "cell_type": "code",
   "execution_count": 25,
   "metadata": {},
   "outputs": [
    {
     "name": "stdout",
     "output_type": "stream",
     "text": [
      "Topic 0: present increase department service general report subject american large duty secretary result citizen condition foreign land shall treaty legislation recommend\n",
      "Topic 1: american work increase america need system world present business citizen department service result report subject program job tax large foreign\n",
      "Topic 2: present citizen duty general secretary service report necessary treaty subject increase number condition department large shall american work purpose foreign\n",
      "Topic 3: american world america work program need help federal tax economic security job increase million know child economy free let life\n",
      "Topic 4: present work increase man duty treaty american department general shall subject service result legislation question policy office attention land commerce\n",
      "Topic 5: man work need business condition american labor present service necessary matter far possible way increase corporation action shall large come\n",
      "Topic 6: present citizen treaty duty subject general service department report treasury foreign system revenue increase question mexico work land man necessary\n",
      "Topic 7: duty present citizen subject treaty shall constitution object mexico union general effect necessary commerce territory treasury measure receive place require\n",
      "\n"
     ]
    }
   ],
   "source": [
    "# Print the top words for topics in the topic model\n",
    "def print_top_words(model, feature_names, n_top_words):\n",
    "    for topic_idx, topic in enumerate(model.components_):\n",
    "        message = \"Topic %d: \" % topic_idx\n",
    "        message += \" \".join([feature_names[i]\n",
    "                             for i in topic.argsort()[:-n_top_words - 1:-1]])\n",
    "        print(message)\n",
    "    print()    \n",
    "\n",
    "print_top_words(speech_lda, tf.columns.values, 20)"
   ]
  },
  {
   "cell_type": "code",
   "execution_count": 26,
   "metadata": {},
   "outputs": [],
   "source": [
    "# % makeup of each document by topic\n",
    "doc_topic = pd.DataFrame(speech_lda.transform(tf),\n",
    "                        columns=list(range(0,(speech_lda.n_components))))\n",
    "\n",
    "# What was the most common topic in each document?\n",
    "doc_topic['MostCommonTopic'] = doc_topic.idxmax(axis=1)\n",
    "doc_topic[['year','president']] = speeches_pd[['year','president']]"
   ]
  },
  {
   "cell_type": "code",
   "execution_count": 27,
   "metadata": {},
   "outputs": [
    {
     "data": {
      "text/html": [
       "<div>\n",
       "<style scoped>\n",
       "    .dataframe tbody tr th:only-of-type {\n",
       "        vertical-align: middle;\n",
       "    }\n",
       "\n",
       "    .dataframe tbody tr th {\n",
       "        vertical-align: top;\n",
       "    }\n",
       "\n",
       "    .dataframe thead th {\n",
       "        text-align: right;\n",
       "    }\n",
       "</style>\n",
       "<table border=\"1\" class=\"dataframe\">\n",
       "  <thead>\n",
       "    <tr style=\"text-align: right;\">\n",
       "      <th></th>\n",
       "      <th>MostCommonTopic</th>\n",
       "      <th>n</th>\n",
       "    </tr>\n",
       "  </thead>\n",
       "  <tbody>\n",
       "    <tr>\n",
       "      <th>0</th>\n",
       "      <td>3</td>\n",
       "      <td>90</td>\n",
       "    </tr>\n",
       "    <tr>\n",
       "      <th>1</th>\n",
       "      <td>7</td>\n",
       "      <td>70</td>\n",
       "    </tr>\n",
       "    <tr>\n",
       "      <th>2</th>\n",
       "      <td>0</td>\n",
       "      <td>58</td>\n",
       "    </tr>\n",
       "    <tr>\n",
       "      <th>3</th>\n",
       "      <td>5</td>\n",
       "      <td>15</td>\n",
       "    </tr>\n",
       "  </tbody>\n",
       "</table>\n",
       "</div>"
      ],
      "text/plain": [
       "   MostCommonTopic   n\n",
       "0                3  90\n",
       "1                7  70\n",
       "2                0  58\n",
       "3                5  15"
      ]
     },
     "execution_count": 27,
     "metadata": {},
     "output_type": "execute_result"
    }
   ],
   "source": [
    "tidy_count(doc_topic,'MostCommonTopic')"
   ]
  },
  {
   "cell_type": "code",
   "execution_count": 28,
   "metadata": {},
   "outputs": [
    {
     "data": {
      "text/plain": [
       "0                  105\n",
       "1                    0\n",
       "2                    0\n",
       "3                  212\n",
       "4                    0\n",
       "5                  119\n",
       "6                    0\n",
       "7                   35\n",
       "MostCommonTopic      0\n",
       "year               232\n",
       "dtype: int64"
      ]
     },
     "execution_count": 28,
     "metadata": {},
     "output_type": "execute_result"
    }
   ],
   "source": [
    "# In which document did each topic most commonly occur?\n",
    "doc_topic.drop('president',axis=1).idxmax(axis=0)"
   ]
  },
  {
   "cell_type": "code",
   "execution_count": 29,
   "metadata": {},
   "outputs": [],
   "source": [
    "import seaborn as sns\n",
    "cm = sns.light_palette(\"green\", as_cmap=True)"
   ]
  },
  {
   "cell_type": "code",
   "execution_count": 30,
   "metadata": {},
   "outputs": [],
   "source": [
    "president_topic = doc_topic.drop(['MostCommonTopic','year'],axis=1).groupby('president').agg('mean')"
   ]
  },
  {
   "cell_type": "code",
   "execution_count": 31,
   "metadata": {},
   "outputs": [
    {
     "data": {
      "text/html": [
       "<style  type=\"text/css\" >\n",
       "    #T_e2291480_6319_11eb_97c0_39a9936bdd38row0_col0 {\n",
       "            background-color:  #ebf3eb;\n",
       "            color:  #000000;\n",
       "        }    #T_e2291480_6319_11eb_97c0_39a9936bdd38row0_col1 {\n",
       "            background-color:  #cbe4cb;\n",
       "            color:  #000000;\n",
       "        }    #T_e2291480_6319_11eb_97c0_39a9936bdd38row0_col2 {\n",
       "            background-color:  #cbe4cb;\n",
       "            color:  #000000;\n",
       "        }    #T_e2291480_6319_11eb_97c0_39a9936bdd38row0_col3 {\n",
       "            background-color:  #008000;\n",
       "            color:  #f1f1f1;\n",
       "        }    #T_e2291480_6319_11eb_97c0_39a9936bdd38row0_col4 {\n",
       "            background-color:  #cbe4cb;\n",
       "            color:  #000000;\n",
       "        }    #T_e2291480_6319_11eb_97c0_39a9936bdd38row0_col5 {\n",
       "            background-color:  #ebf3eb;\n",
       "            color:  #000000;\n",
       "        }    #T_e2291480_6319_11eb_97c0_39a9936bdd38row0_col6 {\n",
       "            background-color:  #cbe4cb;\n",
       "            color:  #000000;\n",
       "        }    #T_e2291480_6319_11eb_97c0_39a9936bdd38row0_col7 {\n",
       "            background-color:  #ebf3eb;\n",
       "            color:  #000000;\n",
       "        }    #T_e2291480_6319_11eb_97c0_39a9936bdd38row1_col0 {\n",
       "            background-color:  #eaf2ea;\n",
       "            color:  #000000;\n",
       "        }    #T_e2291480_6319_11eb_97c0_39a9936bdd38row1_col1 {\n",
       "            background-color:  #128912;\n",
       "            color:  #f1f1f1;\n",
       "        }    #T_e2291480_6319_11eb_97c0_39a9936bdd38row1_col2 {\n",
       "            background-color:  #128912;\n",
       "            color:  #f1f1f1;\n",
       "        }    #T_e2291480_6319_11eb_97c0_39a9936bdd38row1_col3 {\n",
       "            background-color:  #ebf3eb;\n",
       "            color:  #000000;\n",
       "        }    #T_e2291480_6319_11eb_97c0_39a9936bdd38row1_col4 {\n",
       "            background-color:  #128912;\n",
       "            color:  #f1f1f1;\n",
       "        }    #T_e2291480_6319_11eb_97c0_39a9936bdd38row1_col5 {\n",
       "            background-color:  #ebf3eb;\n",
       "            color:  #000000;\n",
       "        }    #T_e2291480_6319_11eb_97c0_39a9936bdd38row1_col6 {\n",
       "            background-color:  #128912;\n",
       "            color:  #f1f1f1;\n",
       "        }    #T_e2291480_6319_11eb_97c0_39a9936bdd38row1_col7 {\n",
       "            background-color:  #018001;\n",
       "            color:  #f1f1f1;\n",
       "        }    #T_e2291480_6319_11eb_97c0_39a9936bdd38row2_col0 {\n",
       "            background-color:  #ebf3eb;\n",
       "            color:  #000000;\n",
       "        }    #T_e2291480_6319_11eb_97c0_39a9936bdd38row2_col1 {\n",
       "            background-color:  #b7dab7;\n",
       "            color:  #000000;\n",
       "        }    #T_e2291480_6319_11eb_97c0_39a9936bdd38row2_col2 {\n",
       "            background-color:  #b7dab7;\n",
       "            color:  #000000;\n",
       "        }    #T_e2291480_6319_11eb_97c0_39a9936bdd38row2_col3 {\n",
       "            background-color:  #008000;\n",
       "            color:  #f1f1f1;\n",
       "        }    #T_e2291480_6319_11eb_97c0_39a9936bdd38row2_col4 {\n",
       "            background-color:  #b7dab7;\n",
       "            color:  #000000;\n",
       "        }    #T_e2291480_6319_11eb_97c0_39a9936bdd38row2_col5 {\n",
       "            background-color:  #ebf3eb;\n",
       "            color:  #000000;\n",
       "        }    #T_e2291480_6319_11eb_97c0_39a9936bdd38row2_col6 {\n",
       "            background-color:  #b7dab7;\n",
       "            color:  #000000;\n",
       "        }    #T_e2291480_6319_11eb_97c0_39a9936bdd38row2_col7 {\n",
       "            background-color:  #ebf3eb;\n",
       "            color:  #000000;\n",
       "        }    #T_e2291480_6319_11eb_97c0_39a9936bdd38row3_col0 {\n",
       "            background-color:  #d6e9d6;\n",
       "            color:  #000000;\n",
       "        }    #T_e2291480_6319_11eb_97c0_39a9936bdd38row3_col1 {\n",
       "            background-color:  #bfdebf;\n",
       "            color:  #000000;\n",
       "        }    #T_e2291480_6319_11eb_97c0_39a9936bdd38row3_col2 {\n",
       "            background-color:  #bfdebf;\n",
       "            color:  #000000;\n",
       "        }    #T_e2291480_6319_11eb_97c0_39a9936bdd38row3_col3 {\n",
       "            background-color:  #0f870f;\n",
       "            color:  #f1f1f1;\n",
       "        }    #T_e2291480_6319_11eb_97c0_39a9936bdd38row3_col4 {\n",
       "            background-color:  #bfdebf;\n",
       "            color:  #000000;\n",
       "        }    #T_e2291480_6319_11eb_97c0_39a9936bdd38row3_col5 {\n",
       "            background-color:  #ebf3eb;\n",
       "            color:  #000000;\n",
       "        }    #T_e2291480_6319_11eb_97c0_39a9936bdd38row3_col6 {\n",
       "            background-color:  #bfdebf;\n",
       "            color:  #000000;\n",
       "        }    #T_e2291480_6319_11eb_97c0_39a9936bdd38row3_col7 {\n",
       "            background-color:  #ebf3eb;\n",
       "            color:  #000000;\n",
       "        }    #T_e2291480_6319_11eb_97c0_39a9936bdd38row4_col0 {\n",
       "            background-color:  #deedde;\n",
       "            color:  #000000;\n",
       "        }    #T_e2291480_6319_11eb_97c0_39a9936bdd38row4_col1 {\n",
       "            background-color:  #a5d1a5;\n",
       "            color:  #000000;\n",
       "        }    #T_e2291480_6319_11eb_97c0_39a9936bdd38row4_col2 {\n",
       "            background-color:  #a5d1a5;\n",
       "            color:  #000000;\n",
       "        }    #T_e2291480_6319_11eb_97c0_39a9936bdd38row4_col3 {\n",
       "            background-color:  #0c860c;\n",
       "            color:  #f1f1f1;\n",
       "        }    #T_e2291480_6319_11eb_97c0_39a9936bdd38row4_col4 {\n",
       "            background-color:  #a5d1a5;\n",
       "            color:  #000000;\n",
       "        }    #T_e2291480_6319_11eb_97c0_39a9936bdd38row4_col5 {\n",
       "            background-color:  #e9f2e9;\n",
       "            color:  #000000;\n",
       "        }    #T_e2291480_6319_11eb_97c0_39a9936bdd38row4_col6 {\n",
       "            background-color:  #a5d1a5;\n",
       "            color:  #000000;\n",
       "        }    #T_e2291480_6319_11eb_97c0_39a9936bdd38row4_col7 {\n",
       "            background-color:  #ebf3eb;\n",
       "            color:  #000000;\n",
       "        }    #T_e2291480_6319_11eb_97c0_39a9936bdd38row5_col0 {\n",
       "            background-color:  #40a040;\n",
       "            color:  #000000;\n",
       "        }    #T_e2291480_6319_11eb_97c0_39a9936bdd38row5_col1 {\n",
       "            background-color:  #d1e6d1;\n",
       "            color:  #000000;\n",
       "        }    #T_e2291480_6319_11eb_97c0_39a9936bdd38row5_col2 {\n",
       "            background-color:  #d1e6d1;\n",
       "            color:  #000000;\n",
       "        }    #T_e2291480_6319_11eb_97c0_39a9936bdd38row5_col3 {\n",
       "            background-color:  #bfdebf;\n",
       "            color:  #000000;\n",
       "        }    #T_e2291480_6319_11eb_97c0_39a9936bdd38row5_col4 {\n",
       "            background-color:  #d1e6d1;\n",
       "            color:  #000000;\n",
       "        }    #T_e2291480_6319_11eb_97c0_39a9936bdd38row5_col5 {\n",
       "            background-color:  #a5d1a5;\n",
       "            color:  #000000;\n",
       "        }    #T_e2291480_6319_11eb_97c0_39a9936bdd38row5_col6 {\n",
       "            background-color:  #d1e6d1;\n",
       "            color:  #000000;\n",
       "        }    #T_e2291480_6319_11eb_97c0_39a9936bdd38row5_col7 {\n",
       "            background-color:  #ebf3eb;\n",
       "            color:  #000000;\n",
       "        }    #T_e2291480_6319_11eb_97c0_39a9936bdd38row6_col0 {\n",
       "            background-color:  #008000;\n",
       "            color:  #f1f1f1;\n",
       "        }    #T_e2291480_6319_11eb_97c0_39a9936bdd38row6_col1 {\n",
       "            background-color:  #bfdebf;\n",
       "            color:  #000000;\n",
       "        }    #T_e2291480_6319_11eb_97c0_39a9936bdd38row6_col2 {\n",
       "            background-color:  #bfdebf;\n",
       "            color:  #000000;\n",
       "        }    #T_e2291480_6319_11eb_97c0_39a9936bdd38row6_col3 {\n",
       "            background-color:  #ebf3eb;\n",
       "            color:  #000000;\n",
       "        }    #T_e2291480_6319_11eb_97c0_39a9936bdd38row6_col4 {\n",
       "            background-color:  #bfdebf;\n",
       "            color:  #000000;\n",
       "        }    #T_e2291480_6319_11eb_97c0_39a9936bdd38row6_col5 {\n",
       "            background-color:  #ebf3eb;\n",
       "            color:  #000000;\n",
       "        }    #T_e2291480_6319_11eb_97c0_39a9936bdd38row6_col6 {\n",
       "            background-color:  #bfdebf;\n",
       "            color:  #000000;\n",
       "        }    #T_e2291480_6319_11eb_97c0_39a9936bdd38row6_col7 {\n",
       "            background-color:  #b0d6b0;\n",
       "            color:  #000000;\n",
       "        }    #T_e2291480_6319_11eb_97c0_39a9936bdd38row7_col0 {\n",
       "            background-color:  #ebf3eb;\n",
       "            color:  #000000;\n",
       "        }    #T_e2291480_6319_11eb_97c0_39a9936bdd38row7_col1 {\n",
       "            background-color:  #b9dbb9;\n",
       "            color:  #000000;\n",
       "        }    #T_e2291480_6319_11eb_97c0_39a9936bdd38row7_col2 {\n",
       "            background-color:  #b9dbb9;\n",
       "            color:  #000000;\n",
       "        }    #T_e2291480_6319_11eb_97c0_39a9936bdd38row7_col3 {\n",
       "            background-color:  #008000;\n",
       "            color:  #f1f1f1;\n",
       "        }    #T_e2291480_6319_11eb_97c0_39a9936bdd38row7_col4 {\n",
       "            background-color:  #b9dbb9;\n",
       "            color:  #000000;\n",
       "        }    #T_e2291480_6319_11eb_97c0_39a9936bdd38row7_col5 {\n",
       "            background-color:  #ebf3eb;\n",
       "            color:  #000000;\n",
       "        }    #T_e2291480_6319_11eb_97c0_39a9936bdd38row7_col6 {\n",
       "            background-color:  #b9dbb9;\n",
       "            color:  #000000;\n",
       "        }    #T_e2291480_6319_11eb_97c0_39a9936bdd38row7_col7 {\n",
       "            background-color:  #ebf3eb;\n",
       "            color:  #000000;\n",
       "        }    #T_e2291480_6319_11eb_97c0_39a9936bdd38row8_col0 {\n",
       "            background-color:  #ebf3eb;\n",
       "            color:  #000000;\n",
       "        }    #T_e2291480_6319_11eb_97c0_39a9936bdd38row8_col1 {\n",
       "            background-color:  #008000;\n",
       "            color:  #f1f1f1;\n",
       "        }    #T_e2291480_6319_11eb_97c0_39a9936bdd38row8_col2 {\n",
       "            background-color:  #008000;\n",
       "            color:  #f1f1f1;\n",
       "        }    #T_e2291480_6319_11eb_97c0_39a9936bdd38row8_col3 {\n",
       "            background-color:  #ebf3eb;\n",
       "            color:  #000000;\n",
       "        }    #T_e2291480_6319_11eb_97c0_39a9936bdd38row8_col4 {\n",
       "            background-color:  #008000;\n",
       "            color:  #f1f1f1;\n",
       "        }    #T_e2291480_6319_11eb_97c0_39a9936bdd38row8_col5 {\n",
       "            background-color:  #ebf3eb;\n",
       "            color:  #000000;\n",
       "        }    #T_e2291480_6319_11eb_97c0_39a9936bdd38row8_col6 {\n",
       "            background-color:  #008000;\n",
       "            color:  #f1f1f1;\n",
       "        }    #T_e2291480_6319_11eb_97c0_39a9936bdd38row8_col7 {\n",
       "            background-color:  #008000;\n",
       "            color:  #f1f1f1;\n",
       "        }    #T_e2291480_6319_11eb_97c0_39a9936bdd38row9_col0 {\n",
       "            background-color:  #86c286;\n",
       "            color:  #000000;\n",
       "        }    #T_e2291480_6319_11eb_97c0_39a9936bdd38row9_col1 {\n",
       "            background-color:  #eaf2ea;\n",
       "            color:  #000000;\n",
       "        }    #T_e2291480_6319_11eb_97c0_39a9936bdd38row9_col2 {\n",
       "            background-color:  #eaf2ea;\n",
       "            color:  #000000;\n",
       "        }    #T_e2291480_6319_11eb_97c0_39a9936bdd38row9_col3 {\n",
       "            background-color:  #ebf3eb;\n",
       "            color:  #000000;\n",
       "        }    #T_e2291480_6319_11eb_97c0_39a9936bdd38row9_col4 {\n",
       "            background-color:  #eaf2ea;\n",
       "            color:  #000000;\n",
       "        }    #T_e2291480_6319_11eb_97c0_39a9936bdd38row9_col5 {\n",
       "            background-color:  #ebf3eb;\n",
       "            color:  #000000;\n",
       "        }    #T_e2291480_6319_11eb_97c0_39a9936bdd38row9_col6 {\n",
       "            background-color:  #eaf2ea;\n",
       "            color:  #000000;\n",
       "        }    #T_e2291480_6319_11eb_97c0_39a9936bdd38row9_col7 {\n",
       "            background-color:  #4ba54a;\n",
       "            color:  #000000;\n",
       "        }    #T_e2291480_6319_11eb_97c0_39a9936bdd38row10_col0 {\n",
       "            background-color:  #e9f2e9;\n",
       "            color:  #000000;\n",
       "        }    #T_e2291480_6319_11eb_97c0_39a9936bdd38row10_col1 {\n",
       "            background-color:  #a2cfa2;\n",
       "            color:  #000000;\n",
       "        }    #T_e2291480_6319_11eb_97c0_39a9936bdd38row10_col2 {\n",
       "            background-color:  #a2cfa2;\n",
       "            color:  #000000;\n",
       "        }    #T_e2291480_6319_11eb_97c0_39a9936bdd38row10_col3 {\n",
       "            background-color:  #ebf3eb;\n",
       "            color:  #000000;\n",
       "        }    #T_e2291480_6319_11eb_97c0_39a9936bdd38row10_col4 {\n",
       "            background-color:  #a2cfa2;\n",
       "            color:  #000000;\n",
       "        }    #T_e2291480_6319_11eb_97c0_39a9936bdd38row10_col5 {\n",
       "            background-color:  #ebf3eb;\n",
       "            color:  #000000;\n",
       "        }    #T_e2291480_6319_11eb_97c0_39a9936bdd38row10_col6 {\n",
       "            background-color:  #a2cfa2;\n",
       "            color:  #000000;\n",
       "        }    #T_e2291480_6319_11eb_97c0_39a9936bdd38row10_col7 {\n",
       "            background-color:  #018001;\n",
       "            color:  #f1f1f1;\n",
       "        }    #T_e2291480_6319_11eb_97c0_39a9936bdd38row11_col0 {\n",
       "            background-color:  #349a34;\n",
       "            color:  #000000;\n",
       "        }    #T_e2291480_6319_11eb_97c0_39a9936bdd38row11_col1 {\n",
       "            background-color:  #bbdcbb;\n",
       "            color:  #000000;\n",
       "        }    #T_e2291480_6319_11eb_97c0_39a9936bdd38row11_col2 {\n",
       "            background-color:  #bbdcbb;\n",
       "            color:  #000000;\n",
       "        }    #T_e2291480_6319_11eb_97c0_39a9936bdd38row11_col3 {\n",
       "            background-color:  #9acb9a;\n",
       "            color:  #000000;\n",
       "        }    #T_e2291480_6319_11eb_97c0_39a9936bdd38row11_col4 {\n",
       "            background-color:  #bbdcbb;\n",
       "            color:  #000000;\n",
       "        }    #T_e2291480_6319_11eb_97c0_39a9936bdd38row11_col5 {\n",
       "            background-color:  #d6e9d6;\n",
       "            color:  #000000;\n",
       "        }    #T_e2291480_6319_11eb_97c0_39a9936bdd38row11_col6 {\n",
       "            background-color:  #bbdcbb;\n",
       "            color:  #000000;\n",
       "        }    #T_e2291480_6319_11eb_97c0_39a9936bdd38row11_col7 {\n",
       "            background-color:  #ebf3eb;\n",
       "            color:  #000000;\n",
       "        }    #T_e2291480_6319_11eb_97c0_39a9936bdd38row12_col0 {\n",
       "            background-color:  #cfe5cf;\n",
       "            color:  #000000;\n",
       "        }    #T_e2291480_6319_11eb_97c0_39a9936bdd38row12_col1 {\n",
       "            background-color:  #ebf3eb;\n",
       "            color:  #000000;\n",
       "        }    #T_e2291480_6319_11eb_97c0_39a9936bdd38row12_col2 {\n",
       "            background-color:  #ebf3eb;\n",
       "            color:  #000000;\n",
       "        }    #T_e2291480_6319_11eb_97c0_39a9936bdd38row12_col3 {\n",
       "            background-color:  #ebf3eb;\n",
       "            color:  #000000;\n",
       "        }    #T_e2291480_6319_11eb_97c0_39a9936bdd38row12_col4 {\n",
       "            background-color:  #ebf3eb;\n",
       "            color:  #000000;\n",
       "        }    #T_e2291480_6319_11eb_97c0_39a9936bdd38row12_col5 {\n",
       "            background-color:  #008000;\n",
       "            color:  #f1f1f1;\n",
       "        }    #T_e2291480_6319_11eb_97c0_39a9936bdd38row12_col6 {\n",
       "            background-color:  #ebf3eb;\n",
       "            color:  #000000;\n",
       "        }    #T_e2291480_6319_11eb_97c0_39a9936bdd38row12_col7 {\n",
       "            background-color:  #ebf3eb;\n",
       "            color:  #000000;\n",
       "        }    #T_e2291480_6319_11eb_97c0_39a9936bdd38row13_col0 {\n",
       "            background-color:  #c5e0c5;\n",
       "            color:  #000000;\n",
       "        }    #T_e2291480_6319_11eb_97c0_39a9936bdd38row13_col1 {\n",
       "            background-color:  #c2dfc2;\n",
       "            color:  #000000;\n",
       "        }    #T_e2291480_6319_11eb_97c0_39a9936bdd38row13_col2 {\n",
       "            background-color:  #c2dfc2;\n",
       "            color:  #000000;\n",
       "        }    #T_e2291480_6319_11eb_97c0_39a9936bdd38row13_col3 {\n",
       "            background-color:  #2b952b;\n",
       "            color:  #000000;\n",
       "        }    #T_e2291480_6319_11eb_97c0_39a9936bdd38row13_col4 {\n",
       "            background-color:  #c2dfc2;\n",
       "            color:  #000000;\n",
       "        }    #T_e2291480_6319_11eb_97c0_39a9936bdd38row13_col5 {\n",
       "            background-color:  #ddecdd;\n",
       "            color:  #000000;\n",
       "        }    #T_e2291480_6319_11eb_97c0_39a9936bdd38row13_col6 {\n",
       "            background-color:  #c2dfc2;\n",
       "            color:  #000000;\n",
       "        }    #T_e2291480_6319_11eb_97c0_39a9936bdd38row13_col7 {\n",
       "            background-color:  #e9f2e9;\n",
       "            color:  #000000;\n",
       "        }    #T_e2291480_6319_11eb_97c0_39a9936bdd38row14_col0 {\n",
       "            background-color:  #ebf3eb;\n",
       "            color:  #000000;\n",
       "        }    #T_e2291480_6319_11eb_97c0_39a9936bdd38row14_col1 {\n",
       "            background-color:  #a3d0a3;\n",
       "            color:  #000000;\n",
       "        }    #T_e2291480_6319_11eb_97c0_39a9936bdd38row14_col2 {\n",
       "            background-color:  #a3d0a3;\n",
       "            color:  #000000;\n",
       "        }    #T_e2291480_6319_11eb_97c0_39a9936bdd38row14_col3 {\n",
       "            background-color:  #008000;\n",
       "            color:  #f1f1f1;\n",
       "        }    #T_e2291480_6319_11eb_97c0_39a9936bdd38row14_col4 {\n",
       "            background-color:  #a3d0a3;\n",
       "            color:  #000000;\n",
       "        }    #T_e2291480_6319_11eb_97c0_39a9936bdd38row14_col5 {\n",
       "            background-color:  #ebf3eb;\n",
       "            color:  #000000;\n",
       "        }    #T_e2291480_6319_11eb_97c0_39a9936bdd38row14_col6 {\n",
       "            background-color:  #a3d0a3;\n",
       "            color:  #000000;\n",
       "        }    #T_e2291480_6319_11eb_97c0_39a9936bdd38row14_col7 {\n",
       "            background-color:  #ebf3eb;\n",
       "            color:  #000000;\n",
       "        }</style><table id=\"T_e2291480_6319_11eb_97c0_39a9936bdd38\" ><thead>    <tr>        <th class=\"blank level0\" ></th>        <th class=\"col_heading level0 col0\" >0</th>        <th class=\"col_heading level0 col1\" >1</th>        <th class=\"col_heading level0 col2\" >2</th>        <th class=\"col_heading level0 col3\" >3</th>        <th class=\"col_heading level0 col4\" >4</th>        <th class=\"col_heading level0 col5\" >5</th>        <th class=\"col_heading level0 col6\" >6</th>        <th class=\"col_heading level0 col7\" >7</th>    </tr>    <tr>        <th class=\"index_name level0\" >president</th>        <th class=\"blank\" ></th>        <th class=\"blank\" ></th>        <th class=\"blank\" ></th>        <th class=\"blank\" ></th>        <th class=\"blank\" ></th>        <th class=\"blank\" ></th>        <th class=\"blank\" ></th>        <th class=\"blank\" ></th>    </tr></thead><tbody>\n",
       "                <tr>\n",
       "                        <th id=\"T_e2291480_6319_11eb_97c0_39a9936bdd38level0_row0\" class=\"row_heading level0 row0\" >Bill Clinton</th>\n",
       "                        <td id=\"T_e2291480_6319_11eb_97c0_39a9936bdd38row0_col0\" class=\"data row0 col0\" >0.000043</td>\n",
       "                        <td id=\"T_e2291480_6319_11eb_97c0_39a9936bdd38row0_col1\" class=\"data row0 col1\" >0.000043</td>\n",
       "                        <td id=\"T_e2291480_6319_11eb_97c0_39a9936bdd38row0_col2\" class=\"data row0 col2\" >0.000043</td>\n",
       "                        <td id=\"T_e2291480_6319_11eb_97c0_39a9936bdd38row0_col3\" class=\"data row0 col3\" >0.999701</td>\n",
       "                        <td id=\"T_e2291480_6319_11eb_97c0_39a9936bdd38row0_col4\" class=\"data row0 col4\" >0.000043</td>\n",
       "                        <td id=\"T_e2291480_6319_11eb_97c0_39a9936bdd38row0_col5\" class=\"data row0 col5\" >0.000043</td>\n",
       "                        <td id=\"T_e2291480_6319_11eb_97c0_39a9936bdd38row0_col6\" class=\"data row0 col6\" >0.000043</td>\n",
       "                        <td id=\"T_e2291480_6319_11eb_97c0_39a9936bdd38row0_col7\" class=\"data row0 col7\" >0.000043</td>\n",
       "            </tr>\n",
       "            <tr>\n",
       "                        <th id=\"T_e2291480_6319_11eb_97c0_39a9936bdd38level0_row1\" class=\"row_heading level0 row1\" >George Washington</th>\n",
       "                        <td id=\"T_e2291480_6319_11eb_97c0_39a9936bdd38row1_col0\" class=\"data row1 col0\" >0.005752</td>\n",
       "                        <td id=\"T_e2291480_6319_11eb_97c0_39a9936bdd38row1_col1\" class=\"data row1 col1\" >0.000183</td>\n",
       "                        <td id=\"T_e2291480_6319_11eb_97c0_39a9936bdd38row1_col2\" class=\"data row1 col2\" >0.000183</td>\n",
       "                        <td id=\"T_e2291480_6319_11eb_97c0_39a9936bdd38row1_col3\" class=\"data row1 col3\" >0.000184</td>\n",
       "                        <td id=\"T_e2291480_6319_11eb_97c0_39a9936bdd38row1_col4\" class=\"data row1 col4\" >0.000183</td>\n",
       "                        <td id=\"T_e2291480_6319_11eb_97c0_39a9936bdd38row1_col5\" class=\"data row1 col5\" >0.001398</td>\n",
       "                        <td id=\"T_e2291480_6319_11eb_97c0_39a9936bdd38row1_col6\" class=\"data row1 col6\" >0.000183</td>\n",
       "                        <td id=\"T_e2291480_6319_11eb_97c0_39a9936bdd38row1_col7\" class=\"data row1 col7\" >0.991933</td>\n",
       "            </tr>\n",
       "            <tr>\n",
       "                        <th id=\"T_e2291480_6319_11eb_97c0_39a9936bdd38level0_row2\" class=\"row_heading level0 row2\" >George W. Bush</th>\n",
       "                        <td id=\"T_e2291480_6319_11eb_97c0_39a9936bdd38row2_col0\" class=\"data row2 col0\" >0.000059</td>\n",
       "                        <td id=\"T_e2291480_6319_11eb_97c0_39a9936bdd38row2_col1\" class=\"data row2 col1\" >0.000058</td>\n",
       "                        <td id=\"T_e2291480_6319_11eb_97c0_39a9936bdd38row2_col2\" class=\"data row2 col2\" >0.000058</td>\n",
       "                        <td id=\"T_e2291480_6319_11eb_97c0_39a9936bdd38row2_col3\" class=\"data row2 col3\" >0.999591</td>\n",
       "                        <td id=\"T_e2291480_6319_11eb_97c0_39a9936bdd38row2_col4\" class=\"data row2 col4\" >0.000058</td>\n",
       "                        <td id=\"T_e2291480_6319_11eb_97c0_39a9936bdd38row2_col5\" class=\"data row2 col5\" >0.000059</td>\n",
       "                        <td id=\"T_e2291480_6319_11eb_97c0_39a9936bdd38row2_col6\" class=\"data row2 col6\" >0.000058</td>\n",
       "                        <td id=\"T_e2291480_6319_11eb_97c0_39a9936bdd38row2_col7\" class=\"data row2 col7\" >0.000059</td>\n",
       "            </tr>\n",
       "            <tr>\n",
       "                        <th id=\"T_e2291480_6319_11eb_97c0_39a9936bdd38level0_row3\" class=\"row_heading level0 row3\" >John F. Kennedy</th>\n",
       "                        <td id=\"T_e2291480_6319_11eb_97c0_39a9936bdd38row3_col0\" class=\"data row3 col0\" >0.064080</td>\n",
       "                        <td id=\"T_e2291480_6319_11eb_97c0_39a9936bdd38row3_col1\" class=\"data row3 col1\" >0.000052</td>\n",
       "                        <td id=\"T_e2291480_6319_11eb_97c0_39a9936bdd38row3_col2\" class=\"data row3 col2\" >0.000052</td>\n",
       "                        <td id=\"T_e2291480_6319_11eb_97c0_39a9936bdd38row3_col3\" class=\"data row3 col3\" >0.935608</td>\n",
       "                        <td id=\"T_e2291480_6319_11eb_97c0_39a9936bdd38row3_col4\" class=\"data row3 col4\" >0.000052</td>\n",
       "                        <td id=\"T_e2291480_6319_11eb_97c0_39a9936bdd38row3_col5\" class=\"data row3 col5\" >0.000052</td>\n",
       "                        <td id=\"T_e2291480_6319_11eb_97c0_39a9936bdd38row3_col6\" class=\"data row3 col6\" >0.000052</td>\n",
       "                        <td id=\"T_e2291480_6319_11eb_97c0_39a9936bdd38row3_col7\" class=\"data row3 col7\" >0.000052</td>\n",
       "            </tr>\n",
       "            <tr>\n",
       "                        <th id=\"T_e2291480_6319_11eb_97c0_39a9936bdd38level0_row4\" class=\"row_heading level0 row4\" >Lyndon Baines Johnson</th>\n",
       "                        <td id=\"T_e2291480_6319_11eb_97c0_39a9936bdd38row4_col0\" class=\"data row4 col0\" >0.041676</td>\n",
       "                        <td id=\"T_e2291480_6319_11eb_97c0_39a9936bdd38row4_col1\" class=\"data row4 col1\" >0.000072</td>\n",
       "                        <td id=\"T_e2291480_6319_11eb_97c0_39a9936bdd38row4_col2\" class=\"data row4 col2\" >0.000072</td>\n",
       "                        <td id=\"T_e2291480_6319_11eb_97c0_39a9936bdd38row4_col3\" class=\"data row4 col3\" >0.948069</td>\n",
       "                        <td id=\"T_e2291480_6319_11eb_97c0_39a9936bdd38row4_col4\" class=\"data row4 col4\" >0.000072</td>\n",
       "                        <td id=\"T_e2291480_6319_11eb_97c0_39a9936bdd38row4_col5\" class=\"data row4 col5\" >0.009895</td>\n",
       "                        <td id=\"T_e2291480_6319_11eb_97c0_39a9936bdd38row4_col6\" class=\"data row4 col6\" >0.000072</td>\n",
       "                        <td id=\"T_e2291480_6319_11eb_97c0_39a9936bdd38row4_col7\" class=\"data row4 col7\" >0.000072</td>\n",
       "            </tr>\n",
       "            <tr>\n",
       "                        <th id=\"T_e2291480_6319_11eb_97c0_39a9936bdd38level0_row5\" class=\"row_heading level0 row5\" >Calvin Coolidge</th>\n",
       "                        <td id=\"T_e2291480_6319_11eb_97c0_39a9936bdd38row5_col0\" class=\"data row5 col0\" >0.540298</td>\n",
       "                        <td id=\"T_e2291480_6319_11eb_97c0_39a9936bdd38row5_col1\" class=\"data row5 col1\" >0.000038</td>\n",
       "                        <td id=\"T_e2291480_6319_11eb_97c0_39a9936bdd38row5_col2\" class=\"data row5 col2\" >0.000038</td>\n",
       "                        <td id=\"T_e2291480_6319_11eb_97c0_39a9936bdd38row5_col3\" class=\"data row5 col3\" >0.187164</td>\n",
       "                        <td id=\"T_e2291480_6319_11eb_97c0_39a9936bdd38row5_col4\" class=\"data row5 col4\" >0.000038</td>\n",
       "                        <td id=\"T_e2291480_6319_11eb_97c0_39a9936bdd38row5_col5\" class=\"data row5 col5\" >0.272346</td>\n",
       "                        <td id=\"T_e2291480_6319_11eb_97c0_39a9936bdd38row5_col6\" class=\"data row5 col6\" >0.000038</td>\n",
       "                        <td id=\"T_e2291480_6319_11eb_97c0_39a9936bdd38row5_col7\" class=\"data row5 col7\" >0.000039</td>\n",
       "            </tr>\n",
       "            <tr>\n",
       "                        <th id=\"T_e2291480_6319_11eb_97c0_39a9936bdd38level0_row6\" class=\"row_heading level0 row6\" >Abraham Lincoln</th>\n",
       "                        <td id=\"T_e2291480_6319_11eb_97c0_39a9936bdd38row6_col0\" class=\"data row6 col0\" >0.744337</td>\n",
       "                        <td id=\"T_e2291480_6319_11eb_97c0_39a9936bdd38row6_col1\" class=\"data row6 col1\" >0.000052</td>\n",
       "                        <td id=\"T_e2291480_6319_11eb_97c0_39a9936bdd38row6_col2\" class=\"data row6 col2\" >0.000052</td>\n",
       "                        <td id=\"T_e2291480_6319_11eb_97c0_39a9936bdd38row6_col3\" class=\"data row6 col3\" >0.002066</td>\n",
       "                        <td id=\"T_e2291480_6319_11eb_97c0_39a9936bdd38row6_col4\" class=\"data row6 col4\" >0.000052</td>\n",
       "                        <td id=\"T_e2291480_6319_11eb_97c0_39a9936bdd38row6_col5\" class=\"data row6 col5\" >0.000052</td>\n",
       "                        <td id=\"T_e2291480_6319_11eb_97c0_39a9936bdd38row6_col6\" class=\"data row6 col6\" >0.000052</td>\n",
       "                        <td id=\"T_e2291480_6319_11eb_97c0_39a9936bdd38row6_col7\" class=\"data row6 col7\" >0.253338</td>\n",
       "            </tr>\n",
       "            <tr>\n",
       "                        <th id=\"T_e2291480_6319_11eb_97c0_39a9936bdd38level0_row7\" class=\"row_heading level0 row7\" >Donald Trump</th>\n",
       "                        <td id=\"T_e2291480_6319_11eb_97c0_39a9936bdd38row7_col0\" class=\"data row7 col0\" >0.000057</td>\n",
       "                        <td id=\"T_e2291480_6319_11eb_97c0_39a9936bdd38row7_col1\" class=\"data row7 col1\" >0.000057</td>\n",
       "                        <td id=\"T_e2291480_6319_11eb_97c0_39a9936bdd38row7_col2\" class=\"data row7 col2\" >0.000057</td>\n",
       "                        <td id=\"T_e2291480_6319_11eb_97c0_39a9936bdd38row7_col3\" class=\"data row7 col3\" >0.999604</td>\n",
       "                        <td id=\"T_e2291480_6319_11eb_97c0_39a9936bdd38row7_col4\" class=\"data row7 col4\" >0.000057</td>\n",
       "                        <td id=\"T_e2291480_6319_11eb_97c0_39a9936bdd38row7_col5\" class=\"data row7 col5\" >0.000057</td>\n",
       "                        <td id=\"T_e2291480_6319_11eb_97c0_39a9936bdd38row7_col6\" class=\"data row7 col6\" >0.000057</td>\n",
       "                        <td id=\"T_e2291480_6319_11eb_97c0_39a9936bdd38row7_col7\" class=\"data row7 col7\" >0.000057</td>\n",
       "            </tr>\n",
       "            <tr>\n",
       "                        <th id=\"T_e2291480_6319_11eb_97c0_39a9936bdd38level0_row8\" class=\"row_heading level0 row8\" >John Adams</th>\n",
       "                        <td id=\"T_e2291480_6319_11eb_97c0_39a9936bdd38row8_col0\" class=\"data row8 col0\" >0.000198</td>\n",
       "                        <td id=\"T_e2291480_6319_11eb_97c0_39a9936bdd38row8_col1\" class=\"data row8 col1\" >0.000198</td>\n",
       "                        <td id=\"T_e2291480_6319_11eb_97c0_39a9936bdd38row8_col2\" class=\"data row8 col2\" >0.000198</td>\n",
       "                        <td id=\"T_e2291480_6319_11eb_97c0_39a9936bdd38row8_col3\" class=\"data row8 col3\" >0.000198</td>\n",
       "                        <td id=\"T_e2291480_6319_11eb_97c0_39a9936bdd38row8_col4\" class=\"data row8 col4\" >0.000198</td>\n",
       "                        <td id=\"T_e2291480_6319_11eb_97c0_39a9936bdd38row8_col5\" class=\"data row8 col5\" >0.000198</td>\n",
       "                        <td id=\"T_e2291480_6319_11eb_97c0_39a9936bdd38row8_col6\" class=\"data row8 col6\" >0.000198</td>\n",
       "                        <td id=\"T_e2291480_6319_11eb_97c0_39a9936bdd38row8_col7\" class=\"data row8 col7\" >0.998614</td>\n",
       "            </tr>\n",
       "            <tr>\n",
       "                        <th id=\"T_e2291480_6319_11eb_97c0_39a9936bdd38level0_row9\" class=\"row_heading level0 row9\" >James K. Polk</th>\n",
       "                        <td id=\"T_e2291480_6319_11eb_97c0_39a9936bdd38row9_col0\" class=\"data row9 col0\" >0.318432</td>\n",
       "                        <td id=\"T_e2291480_6319_11eb_97c0_39a9936bdd38row9_col1\" class=\"data row9 col1\" >0.000020</td>\n",
       "                        <td id=\"T_e2291480_6319_11eb_97c0_39a9936bdd38row9_col2\" class=\"data row9 col2\" >0.000020</td>\n",
       "                        <td id=\"T_e2291480_6319_11eb_97c0_39a9936bdd38row9_col3\" class=\"data row9 col3\" >0.000020</td>\n",
       "                        <td id=\"T_e2291480_6319_11eb_97c0_39a9936bdd38row9_col4\" class=\"data row9 col4\" >0.000020</td>\n",
       "                        <td id=\"T_e2291480_6319_11eb_97c0_39a9936bdd38row9_col5\" class=\"data row9 col5\" >0.000020</td>\n",
       "                        <td id=\"T_e2291480_6319_11eb_97c0_39a9936bdd38row9_col6\" class=\"data row9 col6\" >0.000020</td>\n",
       "                        <td id=\"T_e2291480_6319_11eb_97c0_39a9936bdd38row9_col7\" class=\"data row9 col7\" >0.681450</td>\n",
       "            </tr>\n",
       "            <tr>\n",
       "                        <th id=\"T_e2291480_6319_11eb_97c0_39a9936bdd38level0_row10\" class=\"row_heading level0 row10\" >James Monroe</th>\n",
       "                        <td id=\"T_e2291480_6319_11eb_97c0_39a9936bdd38row10_col0\" class=\"data row10 col0\" >0.006500</td>\n",
       "                        <td id=\"T_e2291480_6319_11eb_97c0_39a9936bdd38row10_col1\" class=\"data row10 col1\" >0.000074</td>\n",
       "                        <td id=\"T_e2291480_6319_11eb_97c0_39a9936bdd38row10_col2\" class=\"data row10 col2\" >0.000074</td>\n",
       "                        <td id=\"T_e2291480_6319_11eb_97c0_39a9936bdd38row10_col3\" class=\"data row10 col3\" >0.000074</td>\n",
       "                        <td id=\"T_e2291480_6319_11eb_97c0_39a9936bdd38row10_col4\" class=\"data row10 col4\" >0.000074</td>\n",
       "                        <td id=\"T_e2291480_6319_11eb_97c0_39a9936bdd38row10_col5\" class=\"data row10 col5\" >0.000074</td>\n",
       "                        <td id=\"T_e2291480_6319_11eb_97c0_39a9936bdd38row10_col6\" class=\"data row10 col6\" >0.000074</td>\n",
       "                        <td id=\"T_e2291480_6319_11eb_97c0_39a9936bdd38row10_col7\" class=\"data row10 col7\" >0.993056</td>\n",
       "            </tr>\n",
       "            <tr>\n",
       "                        <th id=\"T_e2291480_6319_11eb_97c0_39a9936bdd38level0_row11\" class=\"row_heading level0 row11\" >Herbert Hoover</th>\n",
       "                        <td id=\"T_e2291480_6319_11eb_97c0_39a9936bdd38row11_col0\" class=\"data row11 col0\" >0.576017</td>\n",
       "                        <td id=\"T_e2291480_6319_11eb_97c0_39a9936bdd38row11_col1\" class=\"data row11 col1\" >0.000056</td>\n",
       "                        <td id=\"T_e2291480_6319_11eb_97c0_39a9936bdd38row11_col2\" class=\"data row11 col2\" >0.000056</td>\n",
       "                        <td id=\"T_e2291480_6319_11eb_97c0_39a9936bdd38row11_col3\" class=\"data row11 col3\" >0.344884</td>\n",
       "                        <td id=\"T_e2291480_6319_11eb_97c0_39a9936bdd38row11_col4\" class=\"data row11 col4\" >0.000056</td>\n",
       "                        <td id=\"T_e2291480_6319_11eb_97c0_39a9936bdd38row11_col5\" class=\"data row11 col5\" >0.078820</td>\n",
       "                        <td id=\"T_e2291480_6319_11eb_97c0_39a9936bdd38row11_col6\" class=\"data row11 col6\" >0.000056</td>\n",
       "                        <td id=\"T_e2291480_6319_11eb_97c0_39a9936bdd38row11_col7\" class=\"data row11 col7\" >0.000056</td>\n",
       "            </tr>\n",
       "            <tr>\n",
       "                        <th id=\"T_e2291480_6319_11eb_97c0_39a9936bdd38level0_row12\" class=\"row_heading level0 row12\" >Theodore Roosevelt</th>\n",
       "                        <td id=\"T_e2291480_6319_11eb_97c0_39a9936bdd38row12_col0\" class=\"data row12 col0\" >0.088512</td>\n",
       "                        <td id=\"T_e2291480_6319_11eb_97c0_39a9936bdd38row12_col1\" class=\"data row12 col1\" >0.000019</td>\n",
       "                        <td id=\"T_e2291480_6319_11eb_97c0_39a9936bdd38row12_col2\" class=\"data row12 col2\" >0.000019</td>\n",
       "                        <td id=\"T_e2291480_6319_11eb_97c0_39a9936bdd38row12_col3\" class=\"data row12 col3\" >0.000020</td>\n",
       "                        <td id=\"T_e2291480_6319_11eb_97c0_39a9936bdd38row12_col4\" class=\"data row12 col4\" >0.000019</td>\n",
       "                        <td id=\"T_e2291480_6319_11eb_97c0_39a9936bdd38row12_col5\" class=\"data row12 col5\" >0.908835</td>\n",
       "                        <td id=\"T_e2291480_6319_11eb_97c0_39a9936bdd38row12_col6\" class=\"data row12 col6\" >0.000019</td>\n",
       "                        <td id=\"T_e2291480_6319_11eb_97c0_39a9936bdd38row12_col7\" class=\"data row12 col7\" >0.002558</td>\n",
       "            </tr>\n",
       "            <tr>\n",
       "                        <th id=\"T_e2291480_6319_11eb_97c0_39a9936bdd38level0_row13\" class=\"row_heading level0 row13\" >Dwight D. Eisenhower</th>\n",
       "                        <td id=\"T_e2291480_6319_11eb_97c0_39a9936bdd38row13_col0\" class=\"data row13 col0\" >0.122079</td>\n",
       "                        <td id=\"T_e2291480_6319_11eb_97c0_39a9936bdd38row13_col1\" class=\"data row13 col1\" >0.000050</td>\n",
       "                        <td id=\"T_e2291480_6319_11eb_97c0_39a9936bdd38row13_col2\" class=\"data row13 col2\" >0.000050</td>\n",
       "                        <td id=\"T_e2291480_6319_11eb_97c0_39a9936bdd38row13_col3\" class=\"data row13 col3\" >0.814081</td>\n",
       "                        <td id=\"T_e2291480_6319_11eb_97c0_39a9936bdd38row13_col4\" class=\"data row13 col4\" >0.000050</td>\n",
       "                        <td id=\"T_e2291480_6319_11eb_97c0_39a9936bdd38row13_col5\" class=\"data row13 col5\" >0.053987</td>\n",
       "                        <td id=\"T_e2291480_6319_11eb_97c0_39a9936bdd38row13_col6\" class=\"data row13 col6\" >0.000050</td>\n",
       "                        <td id=\"T_e2291480_6319_11eb_97c0_39a9936bdd38row13_col7\" class=\"data row13 col7\" >0.009656</td>\n",
       "            </tr>\n",
       "            <tr>\n",
       "                        <th id=\"T_e2291480_6319_11eb_97c0_39a9936bdd38level0_row14\" class=\"row_heading level0 row14\" >George Herbert Walker Bush</th>\n",
       "                        <td id=\"T_e2291480_6319_11eb_97c0_39a9936bdd38row14_col0\" class=\"data row14 col0\" >0.000074</td>\n",
       "                        <td id=\"T_e2291480_6319_11eb_97c0_39a9936bdd38row14_col1\" class=\"data row14 col1\" >0.000074</td>\n",
       "                        <td id=\"T_e2291480_6319_11eb_97c0_39a9936bdd38row14_col2\" class=\"data row14 col2\" >0.000074</td>\n",
       "                        <td id=\"T_e2291480_6319_11eb_97c0_39a9936bdd38row14_col3\" class=\"data row14 col3\" >0.999483</td>\n",
       "                        <td id=\"T_e2291480_6319_11eb_97c0_39a9936bdd38row14_col4\" class=\"data row14 col4\" >0.000074</td>\n",
       "                        <td id=\"T_e2291480_6319_11eb_97c0_39a9936bdd38row14_col5\" class=\"data row14 col5\" >0.000074</td>\n",
       "                        <td id=\"T_e2291480_6319_11eb_97c0_39a9936bdd38row14_col6\" class=\"data row14 col6\" >0.000074</td>\n",
       "                        <td id=\"T_e2291480_6319_11eb_97c0_39a9936bdd38row14_col7\" class=\"data row14 col7\" >0.000074</td>\n",
       "            </tr>\n",
       "    </tbody></table>"
      ],
      "text/plain": [
       "<pandas.io.formats.style.Styler at 0x7f6be4c60450>"
      ]
     },
     "execution_count": 31,
     "metadata": {},
     "output_type": "execute_result"
    }
   ],
   "source": [
    "president_topic.sample(15).style.background_gradient(cmap=cm)"
   ]
  },
  {
   "cell_type": "code",
   "execution_count": 32,
   "metadata": {},
   "outputs": [],
   "source": [
    "#doc_topic.style.background_gradient(cmap=cm)"
   ]
  },
  {
   "cell_type": "markdown",
   "metadata": {},
   "source": [
    "Topic 7 seems to be related to economic programs, let's plot the prevalence of that topic over time"
   ]
  },
  {
   "cell_type": "code",
   "execution_count": 33,
   "metadata": {},
   "outputs": [
    {
     "data": {
      "text/plain": [
       "<seaborn.axisgrid.FacetGrid at 0x7f6be4b53c90>"
      ]
     },
     "execution_count": 33,
     "metadata": {},
     "output_type": "execute_result"
    },
    {
     "data": {
      "image/png": "[encoded data removed]",
      "text/plain": [
       "<Figure size 648x432 with 1 Axes>"
      ]
     },
     "metadata": {
      "needs_background": "light"
     },
     "output_type": "display_data"
    }
   ],
   "source": [
    "sns.relplot(x=\"year\",y=7,data=doc_topic,kind=\"line\",height=6,aspect=1.5)\n",
    "#plt.xlim(1900,2000)"
   ]
  },
  {
   "cell_type": "markdown",
   "metadata": {},
   "source": [
    "## Predict Year of Address"
   ]
  },
  {
   "cell_type": "code",
   "execution_count": 34,
   "metadata": {},
   "outputs": [],
   "source": [
    "from sklearn.linear_model import LassoCV\n",
    "from sklearn.model_selection import train_test_split\n",
    "from sklearn.metrics import mean_absolute_error\n",
    "\n",
    "X = doc_topic.drop(['MostCommonTopic','president','year'],axis=1)\n",
    "y = doc_topic['year']\n",
    "\n",
    "X_train, X_test, y_train, y_test = train_test_split(X,y, test_size=0.3, random_state=0)"
   ]
  },
  {
   "cell_type": "code",
   "execution_count": 35,
   "metadata": {},
   "outputs": [
    {
     "name": "stdout",
     "output_type": "stream",
     "text": [
      "0.9622668917308718\n",
      "0.9526408586778637\n"
     ]
    }
   ],
   "source": [
    "LASSOreg = LassoCV(cv=5, random_state=0).fit(X_train, y_train)\n",
    "\n",
    "# Print train and test R^2\n",
    "print(LASSOreg.score(X_train,y_train))\n",
    "print(LASSOreg.score(X_test,y_test))"
   ]
  },
  {
   "cell_type": "code",
   "execution_count": 36,
   "metadata": {},
   "outputs": [
    {
     "data": {
      "text/plain": [
       "11.25343909476925"
      ]
     },
     "execution_count": 36,
     "metadata": {},
     "output_type": "execute_result"
    }
   ],
   "source": [
    "mean_absolute_error(LASSOreg.predict(X_test),y_test)"
   ]
  },
  {
   "cell_type": "code",
   "execution_count": 37,
   "metadata": {},
   "outputs": [
    {
     "data": {
      "text/html": [
       "<div>\n",
       "<style scoped>\n",
       "    .dataframe tbody tr th:only-of-type {\n",
       "        vertical-align: middle;\n",
       "    }\n",
       "\n",
       "    .dataframe tbody tr th {\n",
       "        vertical-align: top;\n",
       "    }\n",
       "\n",
       "    .dataframe thead th {\n",
       "        text-align: right;\n",
       "    }\n",
       "</style>\n",
       "<table border=\"1\" class=\"dataframe\">\n",
       "  <thead>\n",
       "    <tr style=\"text-align: right;\">\n",
       "      <th></th>\n",
       "      <th>term</th>\n",
       "      <th>coefficient</th>\n",
       "    </tr>\n",
       "  </thead>\n",
       "  <tbody>\n",
       "    <tr>\n",
       "      <th>3</th>\n",
       "      <td>3</td>\n",
       "      <td>96.730997</td>\n",
       "    </tr>\n",
       "    <tr>\n",
       "      <th>5</th>\n",
       "      <td>5</td>\n",
       "      <td>15.981584</td>\n",
       "    </tr>\n",
       "    <tr>\n",
       "      <th>0</th>\n",
       "      <td>0</td>\n",
       "      <td>-0.000000</td>\n",
       "    </tr>\n",
       "    <tr>\n",
       "      <th>1</th>\n",
       "      <td>1</td>\n",
       "      <td>-0.000000</td>\n",
       "    </tr>\n",
       "    <tr>\n",
       "      <th>2</th>\n",
       "      <td>2</td>\n",
       "      <td>-0.000000</td>\n",
       "    </tr>\n",
       "    <tr>\n",
       "      <th>4</th>\n",
       "      <td>4</td>\n",
       "      <td>-0.000000</td>\n",
       "    </tr>\n",
       "    <tr>\n",
       "      <th>6</th>\n",
       "      <td>6</td>\n",
       "      <td>-0.000000</td>\n",
       "    </tr>\n",
       "    <tr>\n",
       "      <th>7</th>\n",
       "      <td>7</td>\n",
       "      <td>-77.997459</td>\n",
       "    </tr>\n",
       "  </tbody>\n",
       "</table>\n",
       "</div>"
      ],
      "text/plain": [
       "   term  coefficient\n",
       "3     3    96.730997\n",
       "5     5    15.981584\n",
       "0     0    -0.000000\n",
       "1     1    -0.000000\n",
       "2     2    -0.000000\n",
       "4     4    -0.000000\n",
       "6     6    -0.000000\n",
       "7     7   -77.997459"
      ]
     },
     "execution_count": 37,
     "metadata": {},
     "output_type": "execute_result"
    }
   ],
   "source": [
    "# Obtain pandas dataframe of model coefficients sorted by value\n",
    "# To do : sort by absolute value\n",
    "def obtain_coefficients(model):\n",
    "    coefficients = pd.DataFrame(model.coef_.T)\n",
    "    coefficients.insert(0,'',list(X.columns.values))\n",
    "    coefficients.columns = ['term','coefficient']\n",
    "    coefficients.sort_values(by='coefficient',ascending=False,inplace=True)\n",
    "    return(coefficients)\n",
    "\n",
    "obtain_coefficients(LASSOreg)"
   ]
  },
  {
   "cell_type": "markdown",
   "metadata": {},
   "source": [
    "According to the model, topic 4 is associated with more recent addresses while topics 1 and 0 are associated with older addresses. \n",
    "Topic 4 has personal terms such as 'child','family', and 'job' while topics 0 and 1 seem to be more associated with legislation and policy."
   ]
  },
  {
   "cell_type": "markdown",
   "metadata": {},
   "source": [
    "## Sentiment Analysis"
   ]
  },
  {
   "cell_type": "code",
   "execution_count": 38,
   "metadata": {},
   "outputs": [],
   "source": [
    "sentiments = [TextBlob(text).sentiment for text in speech_list ] \n",
    "\n",
    "speeches_pd['polarity'] = [ i[0] for i in sentiments]\n",
    "speeches_pd['subjectivity'] = [ i[1] for i in sentiments]"
   ]
  },
  {
   "cell_type": "code",
   "execution_count": 39,
   "metadata": {},
   "outputs": [
    {
     "data": {
      "text/plain": [
       "<seaborn.axisgrid.FacetGrid at 0x7f6be44df050>"
      ]
     },
     "execution_count": 39,
     "metadata": {},
     "output_type": "execute_result"
    },
    {
     "data": {
      "image/png": "[encoded data removed]",
      "text/plain": [
       "<Figure size 648x432 with 1 Axes>"
      ]
     },
     "metadata": {
      "needs_background": "light"
     },
     "output_type": "display_data"
    }
   ],
   "source": [
    "sns.relplot(x=\"year\", y=\"polarity\", data=speeches_pd,kind=\"line\",height=6, aspect=1.5, marker=\"o\")"
   ]
  }
 ],
 "metadata": {
  "kernelspec": {
   "display_name": "Python 3",
   "language": "python",
   "name": "python3"
  },
  "language_info": {
   "codemirror_mode": {
    "name": "ipython",
    "version": 3
   },
   "file_extension": ".py",
   "mimetype": "text/x-python",
   "name": "python",
   "nbconvert_exporter": "python",
   "pygments_lexer": "ipython3",
   "version": "3.7.7"
  }
 },
 "nbformat": 4,
 "nbformat_minor": 4
}
